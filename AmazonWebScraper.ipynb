{
 "cells": [
  {
   "cell_type": "code",
   "execution_count": 1,
   "metadata": {},
   "outputs": [],
   "source": [
    "# import library\n",
    "from bs4 import BeautifulSoup\n",
    "import requests\n",
    "import time\n",
    "import datetime\n",
    "import csv\n",
    "import pandas as pd\n"
   ]
  },
  {
   "cell_type": "code",
   "execution_count": 2,
   "metadata": {},
   "outputs": [],
   "source": [
    "# Connect to Website and pull in data\n",
    "URL = 'https://www.amazon.com/SAMSUNG-SmartTag-Bluetooth-Tracker-Locator/dp/B08SXLWXH9/?_encoding=UTF8&pd_rd_w=7M9Wf&content-id=amzn1.sym.b37be75f-03b8-43ff-8a4c-1bcc0a685067&pf_rd_p=b37be75f-03b8-43ff-8a4c-1bcc0a685067&pf_rd_r=Q8KN0NHGN56CFQW5DXYM&pd_rd_wg=Ms94f&pd_rd_r=8913fa2f-85fd-4faa-b7b1-d26e7d663f29&ref_=pd_gw_nta-top-sellers'\n",
    "# add your user agent\n",
    "headers = ({'User-Agent': 'Mozilla/5.0 (Windows NT 10.0; Win64; x64) AppleWebKit/537.36 (KHTML, like Gecko) Chrome/112.0.0.0 Safari/537.36 Edg/112.0.1722.48', 'Accept-Language': 'en-US, en;q=0.5'})\n",
    "page = requests.get(URL,headers=headers).text # make request to website\n",
    "soup = BeautifulSoup(page, \"lxml\") #parse lxml"
   ]
  },
  {
   "cell_type": "code",
   "execution_count": 3,
   "metadata": {},
   "outputs": [
    {
     "name": "stdout",
     "output_type": "stream",
     "text": [
      "        SAMSUNG Galaxy SmartTag 2021 Bluetooth Tracker & Item Locator for Keys, Wallets, Luggage, Pets and More (1 Pack), Black       \n",
      "$23.35\n"
     ]
    }
   ],
   "source": [
    "#getting data\n",
    "title = soup.find(id=\"productTitle\").get_text()\n",
    "price = soup.find(class_='a-offscreen').get_text()\n",
    "\n",
    "print(title)\n",
    "print(price)"
   ]
  },
  {
   "cell_type": "code",
   "execution_count": 4,
   "metadata": {},
   "outputs": [
    {
     "name": "stdout",
     "output_type": "stream",
     "text": [
      "SAMSUNG Galaxy SmartTag 2021\n",
      "23.35\n"
     ]
    }
   ],
   "source": [
    "#clean the data\n",
    "title = title.strip()[:28]\n",
    "price = price.strip()[1:]\n",
    "\n",
    "print(title)\n",
    "print(price)"
   ]
  },
  {
   "cell_type": "code",
   "execution_count": 5,
   "metadata": {},
   "outputs": [
    {
     "name": "stdout",
     "output_type": "stream",
     "text": [
      "2023-04-22\n"
     ]
    }
   ],
   "source": [
    "#Adding date time\n",
    "today = datetime.date.today()\n",
    "\n",
    "print(today)"
   ]
  },
  {
   "cell_type": "code",
   "execution_count": 6,
   "metadata": {},
   "outputs": [],
   "source": [
    "#export data to csv\n",
    "header = ['title','price','date']\n",
    "data = [title, price,today]\n",
    "\n",
    "with open('AmazonShirtPageWebScraper.csv', 'w', newline='', encoding='UTF8') as f:\n",
    "    writer = csv.writer(f)\n",
    "    writer.writerow(header)\n",
    "    writer.writerow(data)"
   ]
  },
  {
   "cell_type": "code",
   "execution_count": 7,
   "metadata": {},
   "outputs": [
    {
     "name": "stdout",
     "output_type": "stream",
     "text": [
      "                          title  price        date\n",
      "0  SAMSUNG Galaxy SmartTag 2021  23.35  2023-04-22\n"
     ]
    }
   ],
   "source": [
    "#monitoring data using pandas\n",
    "df = pd.read_csv(r'C:\\Users\\Fathin Afif\\Python Learning\\Projects\\AmazonShirtPageWebScraper.csv')\n",
    "\n",
    "print(df)"
   ]
  },
  {
   "cell_type": "code",
   "execution_count": 8,
   "metadata": {},
   "outputs": [],
   "source": [
    "#Appending data to csv\n",
    "with open('AmazonShirtPageWebScraper.csv', 'a+', newline='', encoding='UTF8') as f:\n",
    "    writer = csv.writer(f)\n",
    "    writer.writerow(data)"
   ]
  },
  {
   "cell_type": "code",
   "execution_count": 9,
   "metadata": {},
   "outputs": [
    {
     "name": "stdout",
     "output_type": "stream",
     "text": [
      "                          title  price        date\n",
      "0  SAMSUNG Galaxy SmartTag 2021  23.35  2023-04-22\n",
      "1  SAMSUNG Galaxy SmartTag 2021  23.35  2023-04-22\n"
     ]
    }
   ],
   "source": [
    "#monitoring data using pandas\n",
    "df = pd.read_csv(r'C:\\Users\\Fathin Afif\\Python Learning\\Projects\\AmazonShirtPageWebScraper.csv')\n",
    "\n",
    "print(df)"
   ]
  },
  {
   "cell_type": "code",
   "execution_count": 10,
   "metadata": {},
   "outputs": [],
   "source": [
    "# Making function for doing price amazon scraping then add the data into csv file\n",
    "def check_price():\n",
    "    # Connect to Website and pull in data\n",
    "    URL = 'https://www.amazon.com/SAMSUNG-SmartTag-Bluetooth-Tracker-Locator/dp/B08SXLWXH9/?_encoding=UTF8&pd_rd_w=7M9Wf&content-id=amzn1.sym.b37be75f-03b8-43ff-8a4c-1bcc0a685067&pf_rd_p=b37be75f-03b8-43ff-8a4c-1bcc0a685067&pf_rd_r=Q8KN0NHGN56CFQW5DXYM&pd_rd_wg=Ms94f&pd_rd_r=8913fa2f-85fd-4faa-b7b1-d26e7d663f29&ref_=pd_gw_nta-top-sellers'\n",
    "\n",
    "    # add your user agent\n",
    "    headers = ({'User-Agent': 'Mozilla/5.0 (Windows NT 10.0; Win64; x64) AppleWebKit/537.36 (KHTML, like Gecko) Chrome/112.0.0.0 Safari/537.36 Edg/112.0.1722.48', 'Accept-Language': 'en-US, en;q=0.5'})\n",
    "    page = requests.get(URL,headers=headers).text # make request to website\n",
    "    soup = BeautifulSoup(page, \"lxml\") #parse lxml\n",
    "\n",
    "    #getting data\n",
    "    title = soup.find(id=\"productTitle\").get_text()\n",
    "    price = soup.find(class_='a-offscreen').get_text()\n",
    "\n",
    "    #clean the data\n",
    "    title = title.strip()[:28]\n",
    "    price = price.strip()[1:]\n",
    "\n",
    "    #Adding date time\n",
    "    today = datetime.date.today()\n",
    "\n",
    "    #making header and data value\n",
    "    header = ['title','price','date']\n",
    "    data = [title, price,today]\n",
    "\n",
    "    #Appending data to csv\n",
    "    with open('AmazonShirtPageWebScraper.csv', 'a+', newline='', encoding='UTF8') as f:\n",
    "        writer = csv.writer(f)\n",
    "        writer.writerow(data)"
   ]
  },
  {
   "cell_type": "code",
   "execution_count": 11,
   "metadata": {},
   "outputs": [
    {
     "ename": "KeyboardInterrupt",
     "evalue": "",
     "output_type": "error",
     "traceback": [
      "\u001b[1;31m---------------------------------------------------------------------------\u001b[0m",
      "\u001b[1;31mKeyboardInterrupt\u001b[0m                         Traceback (most recent call last)",
      "Cell \u001b[1;32mIn[11], line 4\u001b[0m\n\u001b[0;32m      2\u001b[0m \u001b[39mwhile\u001b[39;00m(\u001b[39mTrue\u001b[39;00m):\n\u001b[0;32m      3\u001b[0m     check_price()\n\u001b[1;32m----> 4\u001b[0m     time\u001b[39m.\u001b[39;49msleep(\u001b[39m20\u001b[39;49m)\n",
      "\u001b[1;31mKeyboardInterrupt\u001b[0m: "
     ]
    }
   ],
   "source": [
    "#running function every 20 second for checking price\n",
    "while(True):\n",
    "    check_price()\n",
    "    time.sleep(20)"
   ]
  },
  {
   "cell_type": "code",
   "execution_count": 12,
   "metadata": {},
   "outputs": [
    {
     "name": "stdout",
     "output_type": "stream",
     "text": [
      "                          title  price        date\n",
      "0  SAMSUNG Galaxy SmartTag 2021  23.35  2023-04-22\n",
      "1  SAMSUNG Galaxy SmartTag 2021  23.35  2023-04-22\n",
      "2  SAMSUNG Galaxy SmartTag 2021  23.35  2023-04-22\n",
      "3  SAMSUNG Galaxy SmartTag 2021  23.35  2023-04-22\n",
      "4  SAMSUNG Galaxy SmartTag 2021  23.35  2023-04-22\n"
     ]
    }
   ],
   "source": [
    "#After 60 second will 3 new data\n",
    "df = pd.read_csv(r'C:\\Users\\Fathin Afif\\Python Learning\\Projects\\AmazonShirtPageWebScraper.csv')\n",
    "\n",
    "print(df)"
   ]
  }
 ],
 "metadata": {
  "kernelspec": {
   "display_name": "Python 3",
   "language": "python",
   "name": "python3"
  },
  "language_info": {
   "codemirror_mode": {
    "name": "ipython",
    "version": 3
   },
   "file_extension": ".py",
   "mimetype": "text/x-python",
   "name": "python",
   "nbconvert_exporter": "python",
   "pygments_lexer": "ipython3",
   "version": "3.11.3"
  },
  "orig_nbformat": 4
 },
 "nbformat": 4,
 "nbformat_minor": 2
}
